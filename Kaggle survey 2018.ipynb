{
  "cells": [
    {
      "metadata": {
        "_uuid": "851ba762891a7fb2ad01f245bc0f4960a28051fb"
      },
      "cell_type": "markdown",
      "source": "### Introduction\n\nData Science and Machine Learning the most buzzed words of all from past few years and still continue to do so, people from various fields are curious as well as excited to learn and explore  more and more on this .there are various platforms MOOCS, online discussion forums where beginners and others who are interested,  get an idea of this particular field. And  Kaggle provides a web-based data-science environment, to find and publish data sets, explore and build models. <br>\n\nThis python notebook is for the descriptive analysis of  the ** 2018 Kaggle ML & DS Survey Challenge** which will let us know what are the interest areas of the people who are into the DS & ML field like popular languages, tools , and various other things which are part of the Data Science and ML .  <br>\n\nI am a beginner in this DS and ML field and i think this data exploration will reveal many new stuffs which am not aware of . So lets  begin...,"
    },
    {
      "metadata": {
        "_uuid": "8f2839f25d086af736a60e9eeb907d3b93b6e0e5",
        "_cell_guid": "b1076dfc-b9ad-4769-8c92-a6c4dae69d19",
        "trusted": true,
        "_kg_hide-input": true,
        "_kg_hide-output": true
      },
      "cell_type": "code",
      "source": "import numpy as np # linear algebra\nimport pandas as pd # data processing, CSV file I/O (e.g. pd.read_csv)\nimport matplotlib.pyplot as plt\nimport seaborn as sns\n%matplotlib inline\nfrom matplotlib.pylab import rcParams\nrcParams['figure.figsize'] = 13,8\nsns.set_style(\"darkgrid\")\nimport os\nprint(os.listdir(\"../input\"))\nimport warnings\nwarnings.filterwarnings(\"ignore\")",
      "execution_count": null,
      "outputs": []
    },
    {
      "metadata": {
        "trusted": true,
        "_uuid": "37982488d1cadf55438ab54e7c873486637c5081",
        "_kg_hide-input": true
      },
      "cell_type": "code",
      "source": "#loading dataset\nmain_survey = pd.read_csv(\"../input/multipleChoiceResponses.csv\")\ntext_survey = pd.read_csv(\"../input/freeFormResponses.csv\")",
      "execution_count": null,
      "outputs": []
    },
    {
      "metadata": {
        "trusted": true,
        "scrolled": false,
        "_uuid": "9afc6f2213a026f94b743105a952da4709b91f3d",
        "_kg_hide-input": true
      },
      "cell_type": "code",
      "source": "main_survey.head()",
      "execution_count": null,
      "outputs": []
    },
    {
      "metadata": {
        "trusted": true,
        "scrolled": true,
        "_uuid": "5f71d43b0a5076fc59c9bfc92c4472394eadd5c6",
        "_kg_hide-input": true
      },
      "cell_type": "code",
      "source": "text_survey.head()",
      "execution_count": null,
      "outputs": []
    },
    {
      "metadata": {
        "trusted": true,
        "_uuid": "d5c389f2e43f63b39c644828e77db901c187a316",
        "_kg_hide-input": true
      },
      "cell_type": "code",
      "source": "# lets start with question number 1 :Gender analysis\nplt.figure(figsize=(13,8))\na = sns.countplot((main_survey.Q1[1:]),palette=\"Set1\", order = main_survey.Q1[1:].value_counts().index)\nplt.title(\"Gender analysis\")\nplt.xlabel(\"gender\")\nplt.ylabel(\"respondant\")\nfor p in a.patches:\n    plt.annotate('{:d}'.format(p.get_height()),(p.get_x(), p.get_height()) )\nplt.tight_layout()\n",
      "execution_count": null,
      "outputs": []
    },
    {
      "metadata": {
        "_uuid": "d6a0c8b92fcb66d774d80214b6cd6c5fce8f97c6"
      },
      "cell_type": "markdown",
      "source": "here we go there are more men than women in field of data science n machine learning  . but what could be the reason??? lets compare other features as well with gender column."
    },
    {
      "metadata": {
        "trusted": true,
        "scrolled": true,
        "_uuid": "5113c1fb27a482202d6e7af5f8e770f0f267272c",
        "_kg_hide-input": true,
        "_kg_hide-output": true
      },
      "cell_type": "code",
      "source": "main_survey.columns",
      "execution_count": null,
      "outputs": []
    },
    {
      "metadata": {
        "trusted": true,
        "_uuid": "8fa86d7490594d3a6d3a38261392ae1c8229c008",
        "_kg_hide-input": true
      },
      "cell_type": "code",
      "source": "plt.figure(figsize=(13,8))\nsns.countplot(main_survey[\"Q2\"][1:],hue = main_survey.Q1[1:],palette=\"rainbow\",order = main_survey[\"Q2\"][1:].value_counts().index )\nplt.title(\"gender and Age comparison\")\nplt.xlabel(\"Age bins\")\nplt.ylabel(\"respondant\")\nplt.show()",
      "execution_count": null,
      "outputs": []
    },
    {
      "metadata": {
        "trusted": true,
        "_uuid": "801eec55ecba6fa4b57e27a34783f3b05d937269"
      },
      "cell_type": "markdown",
      "source": "Here also we see that females are less in each age bin but good thing is that there are **more young girls** who are thinking about Data Science and Machine learning.\nAlso, there are more respondants from young age groups ie, starting from college students to people with less experiance in jobs . lets us explore more columns."
    },
    {
      "metadata": {
        "trusted": true,
        "_uuid": "2b7f0e8e15c28b8810d720a25c64949ec6c36bbb",
        "_kg_hide-input": true,
        "_kg_hide-output": true
      },
      "cell_type": "code",
      "source": "main_survey.Q3.value_counts()",
      "execution_count": null,
      "outputs": []
    },
    {
      "metadata": {
        "trusted": true,
        "_uuid": "3f0c3a4924ff83d30cb961b19fe12de43ef52e96",
        "scrolled": false,
        "_kg_hide-input": true
      },
      "cell_type": "code",
      "source": "plt.figure(figsize = (10,60))\nsns.countplot(y = main_survey.Q3[1:],hue = main_survey.Q1[1:],palette=\"rainbow\",order = main_survey.Q3[1:].value_counts().index )\nplt.title(\"country and age comparison\")\nplt.ylabel(\"country\")\nplt.xlabel(\"respondant\")\nplt.show()",
      "execution_count": null,
      "outputs": []
    },
    {
      "metadata": {
        "_uuid": "9d4f5e9e4bf3bc393880fe0c5a5d9c899a5e8ee4"
      },
      "cell_type": "markdown",
      "source": "Here this graph shows that the most respondants are from US and India, there numbers are way ahead compared to other countries . Also we see that most women respondant are from US i,e above 1000 , even India is lacking behind in these number.<br>\nAnother thing to notice from above plot is that there are many countries where there is a noticible female bar graph . lets check there numbers."
    },
    {
      "metadata": {
        "trusted": true,
        "_uuid": "0ebc7838c6fff192a385b75e6d82bfbcbb5d45f5",
        "_kg_hide-input": true
      },
      "cell_type": "code",
      "source": "df = pd.crosstab(index = main_survey.Q3[1:],columns=main_survey.Q1[1:],colnames=[\"Gender\"],rownames=[\"Country\"])\ndf.drop(columns=['Prefer not to say','Prefer to self-describe'],axis = 1,inplace = True)\ndf[\"percent_difference\"] = (np.abs((df[\"Female\"]-df[\"Male\"]))/(df[\"Female\"]+df[\"Male\"]))*100\ndf",
      "execution_count": null,
      "outputs": []
    },
    {
      "metadata": {
        "trusted": true,
        "_uuid": "b334a89f413c7dc362eb615e602dad682b53a35e",
        "_kg_hide-input": true
      },
      "cell_type": "code",
      "source": "#checking in which country the percent difference between men and women respondants is less.\nprint(\"country with less than 50 % difference \",df[df[\"percent_difference\"]<=50].index)\nprint(\"*\"*20)\nprint(\"country with less than 70 % difference \",df[df[\"percent_difference\"]<=70].index)",
      "execution_count": null,
      "outputs": []
    },
    {
      "metadata": {
        "_uuid": "46bc0abf2c68f3bcfae746322b2b8c7b532e38ce"
      },
      "cell_type": "markdown",
      "source": "So **Tunisia and Malaysia** are the countries which has **less  difference in men and women** as compared to other countries.But countries like ** 'Australia', 'Belarus', 'Canada', 'China', 'Egypt', 'France', 'Greece', 'India', 'Indonesia', 'Iran, Islamic Republic of...', 'Kenya', 'Malaysia', 'Mexico',\n       'Morocco', 'Netherlands', 'New Zealand', 'Other', 'Pakistan',\n       'Philippines', 'Poland', 'Portugal', 'Romania', 'Singapore',\n       'South Africa', 'South Korea', 'Spain', 'Sweden', 'Thailand', 'Tunisia',\n       'Turkey', 'United Kingdom of Great Britain and Northern Ireland',\n       'United States of America' are near to 50% of difference**  .Hope this difference gets lesser for all countires in the upcoming years!!!  :)"
    },
    {
      "metadata": {
        "trusted": true,
        "_uuid": "b08e7151380dc0b2b88bb840cade878a886d1612",
        "_kg_hide-input": true
      },
      "cell_type": "code",
      "source": "df2 = pd.crosstab(index = main_survey.Q3[1:],columns=main_survey.Q2[1:],colnames=[\"age_group\"],rownames=[\"Country\"])\nplt.figure(figsize=(20,20))\nsns.heatmap(data = df2,cmap = \"rainbow\",linewidths=1,annot=True,fmt = 'd')",
      "execution_count": null,
      "outputs": []
    },
    {
      "metadata": {
        "_uuid": "b3abef936ed285fa554ccdbf83acd50713766cc0"
      },
      "cell_type": "markdown",
      "source": "we saw earlier that there are more younger respondants but with the above graph we can see from which country do they belong to.** Countries like US and India has highest young respondants and in other age groups as well they have high numbers**  but countries like **Brazil, Canada, China,France Germany,Russia, UK ,Ukraine,Nigeria ,Japan ,Indonesia and Others** (countries where respondants are less than 50 ) also have noticeable  amount of **respondant within young age group**"
    },
    {
      "metadata": {
        "trusted": true,
        "_uuid": "874ddefcb9fa591f88f0ead689ba72bd20632ee5",
        "scrolled": false,
        "_kg_hide-input": true
      },
      "cell_type": "code",
      "source": "plt.figure(figsize=(13,8))\nsns.countplot(y = main_survey.Q4[1:],palette=\"rainbow\")\nplt.title(\"level of Degree\")\nplt.ylabel(\"Degree\")\nplt.xlabel(\"respondant\")\nplt.show()\nprint(main_survey.Q4[1:].value_counts())",
      "execution_count": null,
      "outputs": []
    },
    {
      "metadata": {
        "trusted": true,
        "_uuid": "21cd58216446d53d26f4aaa65c6416df7339e7cd"
      },
      "cell_type": "markdown",
      "source": " Most respondant have Masters degree, then bachelors degree, then Phd which means most of the data scientist and machine learning practioner have higher level of degree . but lets check it with other columns to get more insight out of it."
    },
    {
      "metadata": {
        "trusted": true,
        "_uuid": "324cfee5330f29fb8e56a58ba14823c562d70b7a",
        "_kg_hide-input": true
      },
      "cell_type": "code",
      "source": "# studies compared with age group / gender\ndf3 = pd.crosstab(index = main_survey.Q4[1:],columns=main_survey.Q2[1:])\ndf3",
      "execution_count": null,
      "outputs": []
    },
    {
      "metadata": {
        "trusted": true,
        "_uuid": "b4d18003dbac61c8240e2e80b48e148d51d750fe",
        "_kg_hide-input": true,
        "_kg_hide-output": true
      },
      "cell_type": "code",
      "source": "df_m = main_survey.copy(deep = True)",
      "execution_count": null,
      "outputs": []
    },
    {
      "metadata": {
        "trusted": true,
        "_uuid": "406d9236e78bd95ca8918754883845914eb4a190",
        "_kg_hide-input": true
      },
      "cell_type": "code",
      "source": "df_m[(df_m[\"Q2\"]== \"18-21\") & (df_m[\"Q4\"]== \"Doctoral degree\")]",
      "execution_count": null,
      "outputs": []
    },
    {
      "metadata": {
        "trusted": true,
        "_uuid": "1a112096ebc57adda869a7439df7b3fd0f1ef6b7"
      },
      "cell_type": "markdown",
      "source": "i am checking it 2 times because isn't it rare to get the doctoral Degree at the age of 18-21 i am not sure about other countries but as per my knowledge in India you complete your high school at the age of 18 and then move on to college for bachelores degree or Diplomas.and i think bachelors degree is necessary for any higher degree."
    },
    {
      "metadata": {
        "trusted": true,
        "_uuid": "491f4db775acf4952238f91d9523bd16c62d4861",
        "_kg_hide-input": true
      },
      "cell_type": "code",
      "source": "#Undergrad Major\nplt.figure(figsize=(13,8))\nsns.countplot(y = df_m.Q5[1:],palette=\"rainbow\")\nplt.title(\"undergraduate major\")\nplt.ylabel(\"Majors\")\nplt.xlabel(\"respondant\")\nplt.show()",
      "execution_count": null,
      "outputs": []
    },
    {
      "metadata": {
        "_uuid": "233666ed666feed69b186fded86aa302e5ba4700"
      },
      "cell_type": "markdown",
      "source": "As expected there are more numbers of respondants from Computer science background ,maths & statistics,Business ,medical but whats interesting to see is  respondant from non computer major are also high in number from which we can say that people from other majors have started to look forward in DS & ML world."
    },
    {
      "metadata": {
        "trusted": true,
        "_uuid": "c9938620398c7ddffe2df588a3afa833ba293076",
        "_kg_hide-input": true
      },
      "cell_type": "code",
      "source": "#current/latest Job roles:\nplt.figure(figsize=(13,8))\nsns.countplot(y = df_m[\"Q6\"][1:])\nplt.title(\"CURRENT/ LATEST JOB ROLES\")\nplt.ylabel(\"Job Roles\")\nplt.xlabel(\"respondant\")\nplt.show()",
      "execution_count": null,
      "outputs": []
    },
    {
      "metadata": {
        "_uuid": "55e744a9eb05a6e1221e8636a37097a17779475e"
      },
      "cell_type": "markdown",
      "source": "More Number of students which means most kaggelrs are student who wanted to get in the field of Data Science and machine learning.Also there are respondants who belong to Manager levels, Journalist,scientist, advocate etc... which proves that Data Science and ML have garnered attention from diverse fields."
    },
    {
      "metadata": {
        "trusted": true,
        "_uuid": "983719f0f96b8870b5c60c0c4225d912aba384dc",
        "_kg_hide-input": true
      },
      "cell_type": "code",
      "source": "#checking degree vs job role\nplt.figure(figsize=(13,8))\ndf4 = pd.crosstab(index = df_m.Q6[1:],columns=df_m.Q4[1:])\nsns.heatmap(data = df4,cmap = \"rainbow\",annot= True,linewidths=2)\nplt.title(\"degree vs job role\")\nplt.ylabel(\"Job Roles\")\nplt.xlabel(\"Degrees\")\nplt.show()",
      "execution_count": null,
      "outputs": []
    },
    {
      "metadata": {
        "_uuid": "4a211e3dbf326e6f193a237e093c93b16bc723ed"
      },
      "cell_type": "markdown",
      "source": "The Above heatmap states that there are more students in bachelors and Master's program might be because doing these programs they have high chances to land up in jobd related to DS & ML as we see that people with masters degree have highest number of Jobs in different categoery but they have most jobs as Data Scientist, data analyst etc..,<br>\n\nAlso people with bachelors degree have good number of jobs as data scientist and data analyst. which tells that bachelors and masters can be considered if we want jobs in Data Science field."
    },
    {
      "metadata": {
        "trusted": true,
        "_uuid": "aff55f6dbf9c12e295c8be6e4122fac8f99d8a24",
        "_kg_hide-input": true
      },
      "cell_type": "code",
      "source": "#job role vs major\nplt.figure(figsize=(13,8))\ndf5 = pd.crosstab(index = df_m.Q6[1:],columns=df_m.Q5[1:])\nsns.heatmap(data = df5,cmap = \"rainbow\",annot= True,linewidths=2)\n#the below graph shows that respondants with CS major currently have quite a amount of jobs \n#in data science and software engg field.",
      "execution_count": null,
      "outputs": []
    },
    {
      "metadata": {
        "trusted": true,
        "_uuid": "5f32f5df56e3dfa37bf69578c97165c3d0489de7",
        "_kg_hide-input": true
      },
      "cell_type": "code",
      "source": "#'In what industry is your current employer/contract \n#(or your most recent employer if retired)? - Selected Choice\nsns.countplot(y = df_m[\"Q7\"][1:])\nplt.title(\"industry is your current employer\")\nplt.ylabel(\"industry\")\nplt.xlabel(\"respondant\")\nplt.show()",
      "execution_count": null,
      "outputs": []
    },
    {
      "metadata": {
        "trusted": true,
        "_uuid": "08328b7ba0b5e4334efb194d278a58c8ea6af7e6",
        "_kg_hide-input": true
      },
      "cell_type": "code",
      "source": "plt.figure(figsize=(13,8))\nsns.countplot(x = df_m[\"Q8\"][1:],order=df_m[\"Q8\"][1:].value_counts().index)\nplt.title(\"year of Experience\")\nplt.xlabel(\"no. of years of experience\")\nplt.ylabel(\"respondant\")\nplt.show()",
      "execution_count": null,
      "outputs": []
    },
    {
      "metadata": {
        "trusted": true,
        "_uuid": "b323720812db7a6d90b84c79dbb25b8d3cbbfbda",
        "_kg_hide-input": true
      },
      "cell_type": "code",
      "source": "pd.crosstab(index = df_m.Q6[1:],columns=df_m.Q8[1:])",
      "execution_count": null,
      "outputs": []
    },
    {
      "metadata": {
        "_uuid": "b09e3a2323bedf790290d960bd7b08463a16ecd3"
      },
      "cell_type": "markdown",
      "source": "this shows that as we go up in the ladder of years of experience as Data Scientist the no. of respondants decrease from which we can say that lesser expierence respondants as data Scientist use kaggle more in order to learn and practice. "
    },
    {
      "metadata": {
        "trusted": true,
        "_uuid": "31f16a9785796f3a7a6c30ad61862532e32be38a",
        "_kg_hide-input": false
      },
      "cell_type": "code",
      "source": "plt.figure(figsize=(13,8))\nsns.countplot(y = df_m.Q9[1:],order = df_m.Q9[1:].value_counts().index)\nplt.title(\"Earning per year\")\nplt.ylabel(\"Earnings per year\")\nplt.xlabel(\"respondant\")\nplt.show()",
      "execution_count": null,
      "outputs": []
    },
    {
      "metadata": {
        "trusted": true,
        "_uuid": "be2fdcc093a4c6114f4dbc74a04572d31621c5e0"
      },
      "cell_type": "markdown",
      "source": "most repondant do not want to disclose there earnings on a public platform."
    },
    {
      "metadata": {
        "trusted": true,
        "_uuid": "99421ea5fe23d95f1b7c3080d288316a827378b7"
      },
      "cell_type": "code",
      "source": "df_m.Q10.value_counts()",
      "execution_count": null,
      "outputs": []
    },
    {
      "metadata": {
        "trusted": true,
        "_uuid": "932b9bb4ec12da024128af4260adb6a33883b089"
      },
      "cell_type": "markdown",
      "source": "well, if the responses (\"NO\",\"I don't know \"),are excluded still we can see a quite a lot number of respondant employers use or planning to use ML methods into their business which is about 64.5%."
    },
    {
      "metadata": {
        "trusted": true,
        "_uuid": "0acc196c0e89421f256afe2848921a3b7a98f5df",
        "_kg_hide-input": true
      },
      "cell_type": "code",
      "source": "dfq11 = df_m[['Q11_Part_1', 'Q11_Part_2', 'Q11_Part_3','Q11_Part_4', 'Q11_Part_5', 'Q11_Part_6', 'Q11_Part_7']]\n#dfq12 = df_m[['Q12_Part_1_TEXT', 'Q12_Part_2_TEXT', 'Q12_Part_3_TEXT','Q12_Part_4_TEXT', 'Q12_Part_5_TEXT', 'Q12_OTHER_TEXT']]\ndfq13 = df_m[['Q13_Part_1','Q13_Part_2', 'Q13_Part_3', 'Q13_Part_4', 'Q13_Part_5', 'Q13_Part_6','Q13_Part_7', 'Q13_Part_8', 'Q13_Part_9', 'Q13_Part_10', 'Q13_Part_11','Q13_Part_12', 'Q13_Part_13', 'Q13_Part_14', 'Q13_Part_15']]\ndfq14 = df_m[['Q14_Part_1', 'Q14_Part_2', 'Q14_Part_3', 'Q14_Part_4', 'Q14_Part_5','Q14_Part_6', 'Q14_Part_7', 'Q14_Part_8', 'Q14_Part_9', 'Q14_Part_10','Q14_Part_11']]\ndfq15 = df_m[['Q15_Part_1', 'Q15_Part_2', 'Q15_Part_3', 'Q15_Part_4', 'Q15_Part_5','Q15_Part_6', 'Q15_Part_7']]\ndfq16 = df_m[['Q16_Part_1', 'Q16_Part_2', 'Q16_Part_3', 'Q16_Part_4', 'Q16_Part_5','Q16_Part_6', 'Q16_Part_7', 'Q16_Part_8', 'Q16_Part_9', 'Q16_Part_10','Q16_Part_11', 'Q16_Part_12', 'Q16_Part_13', 'Q16_Part_14','Q16_Part_15', 'Q16_Part_16', 'Q16_Part_17', 'Q16_Part_18']]\ndfq19 = df_m[['Q19_Part_1', 'Q19_Part_2','Q19_Part_3', 'Q19_Part_4', 'Q19_Part_5', 'Q19_Part_6', 'Q19_Part_7','Q19_Part_8', 'Q19_Part_9', 'Q19_Part_10', 'Q19_Part_11', 'Q19_Part_12','Q19_Part_13', 'Q19_Part_14', 'Q19_Part_15', 'Q19_Part_16','Q19_Part_17', 'Q19_Part_18', 'Q19_Part_19']]\ndfq21 = df_m[['Q21_Part_1','Q21_Part_2', 'Q21_Part_3', 'Q21_Part_4', 'Q21_Part_5', 'Q21_Part_6','Q21_Part_7', 'Q21_Part_8', 'Q21_Part_9', 'Q21_Part_10', 'Q21_Part_11','Q21_Part_12', 'Q21_Part_13']]\ndfq27 = df_m[['Q27_Part_1', 'Q27_Part_2', 'Q27_Part_3', 'Q27_Part_4', 'Q27_Part_5','Q27_Part_6', 'Q27_Part_7', 'Q27_Part_8', 'Q27_Part_9', 'Q27_Part_10','Q27_Part_11', 'Q27_Part_12', 'Q27_Part_13', 'Q27_Part_14','Q27_Part_15', 'Q27_Part_16', 'Q27_Part_17', 'Q27_Part_18','Q27_Part_19', 'Q27_Part_20']]\ndfq28 = df_m[['Q28_Part_1', 'Q28_Part_2', 'Q28_Part_3','Q28_Part_4', 'Q28_Part_5', 'Q28_Part_6', 'Q28_Part_7', 'Q28_Part_8','Q28_Part_9', 'Q28_Part_10', 'Q28_Part_11', 'Q28_Part_12','Q28_Part_13', 'Q28_Part_14', 'Q28_Part_15', 'Q28_Part_16','Q28_Part_17', 'Q28_Part_18', 'Q28_Part_19', 'Q28_Part_20','Q28_Part_21', 'Q28_Part_22', 'Q28_Part_23', 'Q28_Part_24','Q28_Part_25', 'Q28_Part_26', 'Q28_Part_27', 'Q28_Part_28','Q28_Part_29', 'Q28_Part_30', 'Q28_Part_31', 'Q28_Part_32','Q28_Part_33', 'Q28_Part_34', 'Q28_Part_35', 'Q28_Part_36','Q28_Part_37', 'Q28_Part_38', 'Q28_Part_39', 'Q28_Part_40','Q28_Part_41', 'Q28_Part_42', 'Q28_Part_43']]\ndfq29 = df_m[['Q29_Part_1', 'Q29_Part_2', 'Q29_Part_3','Q29_Part_4', 'Q29_Part_5', 'Q29_Part_6', 'Q29_Part_7', 'Q29_Part_8','Q29_Part_9', 'Q29_Part_10', 'Q29_Part_11', 'Q29_Part_12','Q29_Part_13', 'Q29_Part_14', 'Q29_Part_15', 'Q29_Part_16','Q29_Part_17', 'Q29_Part_18', 'Q29_Part_19', 'Q29_Part_20','Q29_Part_21', 'Q29_Part_22', 'Q29_Part_23', 'Q29_Part_24','Q29_Part_25', 'Q29_Part_26', 'Q29_Part_27', 'Q29_Part_28']]\ndfq30 = df_m[['Q30_Part_1', 'Q30_Part_2', 'Q30_Part_3','Q30_Part_4', 'Q30_Part_5', 'Q30_Part_6', 'Q30_Part_7', 'Q30_Part_8','Q30_Part_9', 'Q30_Part_10', 'Q30_Part_11', 'Q30_Part_12','Q30_Part_13', 'Q30_Part_14', 'Q30_Part_15', 'Q30_Part_16','Q30_Part_17', 'Q30_Part_18', 'Q30_Part_19', 'Q30_Part_20','Q30_Part_21', 'Q30_Part_22', 'Q30_Part_23', 'Q30_Part_24','Q30_Part_25']]\ndfq31 = df_m[['Q31_Part_1', 'Q31_Part_2', 'Q31_Part_3', 'Q31_Part_4', 'Q31_Part_5','Q31_Part_6', 'Q31_Part_7', 'Q31_Part_8', 'Q31_Part_9', 'Q31_Part_10','Q31_Part_11', 'Q31_Part_12', 'Q31_OTHER_TEXT', 'Q32', 'Q32_OTHER','Q33_Part_1', 'Q33_Part_2', 'Q33_Part_3', 'Q33_Part_4', 'Q33_Part_5','Q33_Part_6', 'Q33_Part_7', 'Q33_Part_8', 'Q33_Part_9', 'Q33_Part_10','Q33_Part_11']]\ndfq33 = df_m[['Q33_Part_1', 'Q33_Part_2', 'Q33_Part_3', 'Q33_Part_4', 'Q33_Part_5','Q33_Part_6', 'Q33_Part_7', 'Q33_Part_8', 'Q33_Part_9', 'Q33_Part_10','Q33_Part_11']]\ndfq34 = df_m[['Q34_Part_1', 'Q34_Part_2','Q34_Part_3', 'Q34_Part_4', 'Q34_Part_5', 'Q34_Part_6']]\ndfq35 = df_m[['Q35_Part_1', 'Q35_Part_2', 'Q35_Part_3','Q35_Part_4', 'Q35_Part_5', 'Q35_Part_6']]\ndfq36 = df_m[['Q36_Part_1', 'Q36_Part_2', 'Q36_Part_3','Q36_Part_4', 'Q36_Part_5', 'Q36_Part_6', 'Q36_Part_7', 'Q36_Part_8','Q36_Part_9', 'Q36_Part_10', 'Q36_Part_11', 'Q36_Part_12','Q36_Part_13']]\ndfq38 = df_m[['Q38_Part_1','Q38_Part_2', 'Q38_Part_3', 'Q38_Part_4', 'Q38_Part_5', 'Q38_Part_6','Q38_Part_7', 'Q38_Part_8', 'Q38_Part_9', 'Q38_Part_10', 'Q38_Part_11','Q38_Part_12', 'Q38_Part_13', 'Q38_Part_14', 'Q38_Part_15','Q38_Part_16', 'Q38_Part_17', 'Q38_Part_18', 'Q38_Part_19','Q38_Part_20', 'Q38_Part_21', 'Q38_Part_22']]\ndfq39 = df_m[['Q39_Part_1', 'Q39_Part_2']]\ndfq41 = df_m[['Q41_Part_1', 'Q41_Part_2','Q41_Part_3']]\ndfq42 = df_m[['Q42_Part_1', 'Q42_Part_2', 'Q42_Part_3', 'Q42_Part_4','Q42_Part_5']]\ndfq44 = df_m[['Q44_Part_1', 'Q44_Part_2','Q44_Part_3', 'Q44_Part_4', 'Q44_Part_5', 'Q44_Part_6']]\ndfq45 = df_m[['Q45_Part_1', 'Q45_Part_2', 'Q45_Part_3', 'Q45_Part_4','Q45_Part_5', 'Q45_Part_6']]\ndfq47 = df_m[['Q47_Part_1', 'Q47_Part_2','Q47_Part_3', 'Q47_Part_4', 'Q47_Part_5', 'Q47_Part_6', 'Q47_Part_7','Q47_Part_8', 'Q47_Part_9', 'Q47_Part_10', 'Q47_Part_11', 'Q47_Part_12','Q47_Part_13', 'Q47_Part_14', 'Q47_Part_15', 'Q47_Part_16']]\ndfq49 = df_m[['Q49_Part_1', 'Q49_Part_2', 'Q49_Part_3', 'Q49_Part_4', 'Q49_Part_5','Q49_Part_6', 'Q49_Part_7', 'Q49_Part_8', 'Q49_Part_9', 'Q49_Part_10','Q49_Part_11', 'Q49_Part_12']]\ndfq50 = df_m[['Q50_Part_1','Q50_Part_2', 'Q50_Part_3', 'Q50_Part_4', 'Q50_Part_5', 'Q50_Part_6','Q50_Part_7', 'Q50_Part_8']]\n#12,17,18,22,23,24,25,26,32,37,40,44,46,48",
      "execution_count": null,
      "outputs": []
    },
    {
      "metadata": {
        "trusted": true,
        "_uuid": "af032b74bf0abb3757a900ccb6fb63e890b1bae9"
      },
      "cell_type": "markdown",
      "source": "Now lets check all the Muliple choice questions and see what insights they have in them:"
    },
    {
      "metadata": {
        "trusted": true,
        "_uuid": "23c4358c2f6bcaac26ab8343e92090168e2b8c8a",
        "_kg_hide-input": true
      },
      "cell_type": "code",
      "source": "def combine_analysis(dfq):\n    collective_values = pd.Series()\n    st = pd.Series()\n    for i in dfq:\n        st = dfq[i][0]\n        b = st.split(\"-\")[0]\n        dfq[i].dropna(inplace = True)\n        collective_values = collective_values.append(dfq[i][1:])\n    return(collective_values,b)",
      "execution_count": null,
      "outputs": []
    },
    {
      "metadata": {
        "trusted": true,
        "_uuid": "c01ebdff35fdb2c84069e9a9a4160e144c002db6",
        "_kg_hide-input": true
      },
      "cell_type": "code",
      "source": "def qplot(a,b):\n    plt.figure(figsize=(10,10))\n    sns.countplot(y = a , order = a.value_counts().index)\n    plt.title(b)\n    plt.xlabel(\"respondants\")\n    plt.plot()",
      "execution_count": null,
      "outputs": []
    },
    {
      "metadata": {
        "trusted": true,
        "_uuid": "fd4d4bfe236a02052e1f25f5cc108641a289634b",
        "_kg_hide-input": true
      },
      "cell_type": "code",
      "source": "def parts_analysis(dfq):\n    a,b = combine_analysis(dfq)\n    qplot(a,b)",
      "execution_count": null,
      "outputs": []
    },
    {
      "metadata": {
        "trusted": true,
        "_uuid": "5e7c05fe2bc997244fc749643d495846222b12cf",
        "_kg_hide-input": true
      },
      "cell_type": "code",
      "source": "def non_mcq(dfm):\n    sns.countplot(y = df_m[dfm][1:])\n    plt.xlabel(\"respondants\")\n    plt.title(df_m[dfm][0])",
      "execution_count": null,
      "outputs": []
    },
    {
      "metadata": {
        "trusted": true,
        "_uuid": "595533df2f7332e736071ae3aa08b7fb6c5dd497"
      },
      "cell_type": "code",
      "source": "#question Number 11:\nparts_analysis(dfq11)",
      "execution_count": null,
      "outputs": []
    },
    {
      "metadata": {
        "trusted": true,
        "_uuid": "2404bbe8a69f8c3852bdfe30e105e9c462938725"
      },
      "cell_type": "code",
      "source": "# question number 12: \nnon_mcq(\"Q12_MULTIPLE_CHOICE\")",
      "execution_count": null,
      "outputs": []
    },
    {
      "metadata": {
        "trusted": true,
        "_uuid": "6d6fd65392265cd6391921cb7f8520ee16908b4f"
      },
      "cell_type": "code",
      "source": "#question number 13:\nplt.figure(figsize=(13,8))\nparts_analysis(dfq13)",
      "execution_count": null,
      "outputs": []
    },
    {
      "metadata": {
        "trusted": true,
        "_uuid": "60d090923c3375c86ff466efe3e65151f47a13ca"
      },
      "cell_type": "markdown",
      "source": "So we see that \"Jupyter\" winning the race, which can be obviuos because there are more number of students respondants and Jupyter is easy to use tool ,which comes handy one we need to test and run some small snippets of Code."
    },
    {
      "metadata": {
        "trusted": true,
        "_uuid": "494b33d56173baf843b4727f119d8f62de454fcb"
      },
      "cell_type": "code",
      "source": "#question number : 14\nplt.figure(figsize=(13,8))\nparts_analysis(dfq14)",
      "execution_count": null,
      "outputs": []
    },
    {
      "metadata": {
        "trusted": true,
        "scrolled": false,
        "_uuid": "acf0e0d8d1f4203e08bbfd3b603b1ee7f53b52c9"
      },
      "cell_type": "code",
      "source": "s = text_survey.Q14_OTHER_TEXT.str.lower()\ns.dropna().value_counts().head(5)",
      "execution_count": null,
      "outputs": []
    },
    {
      "metadata": {
        "_uuid": "ad7112caa70b806e032ef6964420b638e9d4f8de"
      },
      "cell_type": "markdown",
      "source": "we see more numbers of \"none \" values but if we check the text section of this question , the top 5 hosted notebooks."
    },
    {
      "metadata": {
        "trusted": true,
        "_uuid": "91ad23eb06fc391e0688d3f5b17cb6c14b151565"
      },
      "cell_type": "code",
      "source": "#question number : 15\nplt.figure(figsize=(13,8))\nparts_analysis(dfq15)",
      "execution_count": null,
      "outputs": []
    },
    {
      "metadata": {
        "_uuid": "eae17ad464e36cfe8cae4269dfc232461ee70fce"
      },
      "cell_type": "markdown",
      "source": "AWS is at top and reasons might be that AWS helps data scientists to:\n\nPrepare the infrastructure they need for their work (e.g. Hadoop clusters) with ease<br>\nEasily set up necessary tools (e.g. Spark)<br>\nDecrease expenses significantly—such as by paying for huge Hadoop clusters only when needed<br>\nSpend less time on maintenance, as there's no need for tasks like manually backing up data<br>\n Develop products and features that are ready to launch without needing help from engineers (or, at least, needing very little help)<br>"
    },
    {
      "metadata": {
        "trusted": true,
        "_uuid": "850ec817df52a3b8dbe4ed401b1c26a8ba4f46ab"
      },
      "cell_type": "code",
      "source": "#question number : 16\nplt.figure(figsize=(13,8))\nparts_analysis(dfq16)",
      "execution_count": null,
      "outputs": []
    },
    {
      "metadata": {
        "trusted": true,
        "_uuid": "9b568af5db26b9e6dd7207103ac3dac1abe9fdea"
      },
      "cell_type": "code",
      "source": "#question number : 17\nplt.figure(figsize=(13,8))\nnon_mcq(\"Q17\")",
      "execution_count": null,
      "outputs": []
    },
    {
      "metadata": {
        "_kg_hide-input": true,
        "trusted": true,
        "_uuid": "6119b8fb39139593f4e9f5111a94d9dbee792a00"
      },
      "cell_type": "code",
      "source": "#question number : 18\nplt.figure(figsize=(13,8))\nnon_mcq(\"Q18\")",
      "execution_count": null,
      "outputs": []
    },
    {
      "metadata": {
        "_uuid": "7aeabe8a12738201152905d1ea360c616ec9b3ac"
      },
      "cell_type": "markdown",
      "source": "Summary: As we all know Python is the easy to learn programming language which is why it is winning the race,R language is widely used among statisticians and data miners for developing statistical software and data analysis. But here the number tells that be it a aspiring data scientist or an experienced Data Scientist both prefering Python over other languages."
    },
    {
      "metadata": {
        "trusted": true,
        "_uuid": "6d42297e52e9f5aa76adfd949005f4175dd14159"
      },
      "cell_type": "code",
      "source": "#question number : 19\nplt.figure(figsize=(13,8))\nparts_analysis(dfq19)",
      "execution_count": null,
      "outputs": []
    },
    {
      "metadata": {
        "trusted": true,
        "_uuid": "f2483885ae4f8949132dbb6da8cd75a9afd964b1"
      },
      "cell_type": "code",
      "source": "#question number : 20\nplt.figure(figsize=(13,8))\nnon_mcq(\"Q20\")",
      "execution_count": null,
      "outputs": []
    },
    {
      "metadata": {
        "trusted": true,
        "_uuid": "dc6dabca611aa6ec0fec76f8208576215c1bb983"
      },
      "cell_type": "code",
      "source": "#question number : 21\nplt.figure(figsize=(13,8))\nparts_analysis(dfq21)",
      "execution_count": null,
      "outputs": []
    },
    {
      "metadata": {
        "trusted": true,
        "_uuid": "e7d382e8a73253952f56161829a308a70951714d",
        "_kg_hide-input": true,
        "_kg_hide-output": true
      },
      "cell_type": "code",
      "source": "#question number : 22\nplt.figure(figsize=(13,8))\nnon_mcq(\"Q22\")",
      "execution_count": null,
      "outputs": []
    },
    {
      "metadata": {
        "trusted": true,
        "_uuid": "ded5ada2510c84790e0edddd89c688bbbdac4026"
      },
      "cell_type": "code",
      "source": "#question number : 23\nplt.figure(figsize=(13,8))\nnon_mcq(\"Q23\")",
      "execution_count": null,
      "outputs": []
    },
    {
      "metadata": {
        "trusted": true,
        "_uuid": "87a4e508a27eb25d145f25806414dab6f4625da3"
      },
      "cell_type": "code",
      "source": "#comparing it with jobs post\nplt.figure(figsize=(13,8))\nt = pd.crosstab(index = df_m.Q6[1:],columns=df_m.Q23[1:])\nsns.heatmap(data = t, annot= True,cmap = \"rainbow\",linewidths=1)",
      "execution_count": null,
      "outputs": []
    },
    {
      "metadata": {
        "_uuid": "526a1b8b674c1b6ab9221072a2fcc1601e0a321d"
      },
      "cell_type": "markdown",
      "source": "Summary: so the comparison b/w job profile and time spend on coding tells that data Scientist and data analyst spend their 25% to 75% in coding."
    },
    {
      "metadata": {
        "trusted": true,
        "_uuid": "769099df8db083a91005d0697b2f426a362b432d"
      },
      "cell_type": "code",
      "source": "#question number : 24\nplt.figure(figsize=(13,8))\nnon_mcq(\"Q24\")",
      "execution_count": null,
      "outputs": []
    },
    {
      "metadata": {
        "trusted": true,
        "_uuid": "38f435890fd19e07d1964134d1d8529820cc94f0"
      },
      "cell_type": "code",
      "source": "#question number : 25\nplt.figure(figsize=(13,8))\nnon_mcq(\"Q25\")",
      "execution_count": null,
      "outputs": []
    },
    {
      "metadata": {
        "trusted": true,
        "_uuid": "a4434a927c05ce3a78ab238a6326c601469f0d50"
      },
      "cell_type": "code",
      "source": "#question number : 26\nplt.figure(figsize=(13,8))\nnon_mcq(\"Q26\")",
      "execution_count": null,
      "outputs": []
    },
    {
      "metadata": {
        "_uuid": "e987d2cf10d9064652172a8ddb52620559dc3b34"
      },
      "cell_type": "markdown",
      "source": "Summary: Wow!!! its very interesting to see that a lot people consider themselves to be a Data Scientist , and most respondants are still not sure of , this might be because those repondant may have just started or have less expierence into this field or are looking for job opportunities in to DS& ML ."
    },
    {
      "metadata": {
        "trusted": true,
        "_uuid": "e4eb71e71e03235d82b10e8486d76e71d5f7b525"
      },
      "cell_type": "code",
      "source": "#question number : 27\nplt.figure(figsize=(13,8))\nparts_analysis(dfq27)",
      "execution_count": null,
      "outputs": []
    },
    {
      "metadata": {
        "trusted": true,
        "_uuid": "9f083437251f104239e1950411fe4ab38fd6bc9d"
      },
      "cell_type": "code",
      "source": "#question number : 28\nplt.figure(figsize=(13,8))\nparts_analysis(dfq28)",
      "execution_count": null,
      "outputs": []
    },
    {
      "metadata": {
        "trusted": true,
        "_uuid": "3a0ac3bbf413a90ca2e4968a1dc2b8435b680626"
      },
      "cell_type": "code",
      "source": "text_survey.Q28_OTHER_TEXT.str.lower().dropna().value_counts().head()",
      "execution_count": null,
      "outputs": []
    },
    {
      "metadata": {
        "_uuid": "a67068d4aa28af0d0ed29307dddbd5c33f0d1d50"
      },
      "cell_type": "markdown",
      "source": "summary: there are more number of  \"None\" which tells that there are may respondants which do not use the popular Machine learning products. the  other mentiones by the respondants are shown above."
    },
    {
      "metadata": {
        "trusted": true,
        "_uuid": "84e70b2cc9c11654912e5e6134fdda9c31e3dcb0"
      },
      "cell_type": "code",
      "source": "#question number : 29\nplt.figure(figsize=(13,8))\nparts_analysis(dfq29)",
      "execution_count": null,
      "outputs": []
    },
    {
      "metadata": {
        "trusted": true,
        "_uuid": "8c29eb410a1dae30e1326f4e300025f46be12714"
      },
      "cell_type": "code",
      "source": "#question number : 30\nplt.figure(figsize=(13,8))\nparts_analysis(dfq30)",
      "execution_count": null,
      "outputs": []
    },
    {
      "metadata": {
        "trusted": true,
        "_uuid": "968703ca2ea4f418e8806574e6155226b55b67bc"
      },
      "cell_type": "code",
      "source": "text_survey.Q30_OTHER_TEXT.dropna().str.lower().value_counts().head(5)",
      "execution_count": null,
      "outputs": []
    },
    {
      "metadata": {
        "_uuid": "a788ee726cff9df9ff62a7b8a515cca140e11519"
      },
      "cell_type": "markdown",
      "source": "Summary: Big Data refers to vast and voluminous data sets that may be structured or unstructured. This massive amount of data is produced every day by businesses and users. Big Data analytics is the process of examining the large data sets to underline insights and patterns.Data Scientists are responsible to deal with Big Data in business."
    },
    {
      "metadata": {
        "trusted": true,
        "_uuid": "ba388bf51cc3129ccbd9b9d87827e45d6e96d397"
      },
      "cell_type": "code",
      "source": "#question number : 32\nplt.figure(figsize=(13,8))\n#plt.figure(figsize = (20,20))\nnon_mcq(\"Q32\")",
      "execution_count": null,
      "outputs": []
    },
    {
      "metadata": {
        "_uuid": "70fa9d489268e0849dd8fd3617ca99ca33a9468e"
      },
      "cell_type": "markdown",
      "source": "Long Story short : Previously data was  mostly available in numerical, tabular format, but now data is been streaming in all forms like, audio, video, text, image  etc..., which has lead the data enthusiasts to dive deeper and challenge their DS & ML Skills."
    },
    {
      "metadata": {
        "trusted": true,
        "_uuid": "5172a91373b49b55f950b230e4cbfacf083c4457"
      },
      "cell_type": "code",
      "source": "#question number : 33\nplt.figure(figsize = (13,8))\n#plt.figure(figsize = (20,20))\nparts_analysis(dfq33)",
      "execution_count": null,
      "outputs": []
    },
    {
      "metadata": {
        "trusted": true,
        "_uuid": "5b76a32cadd74dc5ca7382c0039afd1240d0e021"
      },
      "cell_type": "code",
      "source": "#question number : 36\n#plt.figure(figsize = (20,20))\nparts_analysis(dfq36)",
      "execution_count": null,
      "outputs": []
    },
    {
      "metadata": {
        "trusted": true,
        "_uuid": "8c2d12a046d547dc2b4ef806cbbce14b19910360"
      },
      "cell_type": "markdown",
      "source": "summary: Clearly \"Coursera \" leading from all the other MOOCs"
    },
    {
      "metadata": {
        "trusted": true,
        "_uuid": "24464289bc56e53a81517ab40edbf76e3e3e99ff"
      },
      "cell_type": "code",
      "source": "#question number : 38\nparts_analysis(dfq38)",
      "execution_count": null,
      "outputs": []
    },
    {
      "metadata": {
        "_uuid": "f97d7732cb2241a40de7f2d890ad829a490e26a7"
      },
      "cell_type": "markdown",
      "source": "summary: The media sources can we very helpful to the people who want to be a part of the DS and ML world .as they not onle give the latest buzz of the market but also there are many articles which will help to learn some difficult topics , be it either step by step coding and logic explanation or explaining the topics with respect to business "
    },
    {
      "metadata": {
        "trusted": true,
        "_uuid": "79a37264eeee89d016dcbbd348b29737ec1fff91"
      },
      "cell_type": "code",
      "source": "#question number : 39\nparts_analysis(dfq39)",
      "execution_count": null,
      "outputs": []
    },
    {
      "metadata": {
        "_uuid": "4dc2a02cfe1217b3acf7bf89a99ce5ec7f1d4b1d"
      },
      "cell_type": "markdown",
      "source": "Summary: this question can be considered as the respondant biased , means that every individual has its own learning methods , so this can not be a generalized point that wether MOOCs are good or bad its varies from person to person."
    },
    {
      "metadata": {
        "trusted": true,
        "_uuid": "38f596f1468183352670dffe4fa19e6914b1b42f"
      },
      "cell_type": "code",
      "source": "#question number : 40\nplt.figure(figsize = (13,8))\nnon_mcq(\"Q40\")",
      "execution_count": null,
      "outputs": []
    },
    {
      "metadata": {
        "trusted": true,
        "_uuid": "74a895e91fa7b517e514f980d021d21b789832ce"
      },
      "cell_type": "markdown",
      "source": "\"practise makes a man perfect\"...<br>\nacedemics and independant projects both are important , but in Data science field there are many people who do self learning(like me...:P) and do individual projects and due to which the above results can be obvious . thought both ways helps in building concepts strong ."
    },
    {
      "metadata": {
        "trusted": true,
        "_uuid": "6cd8ccc365a2b105b052b80e506afbe4a0303054"
      },
      "cell_type": "code",
      "source": "#question number : 46\nplt.figure(figsize = (13,8))\nnon_mcq(\"Q46\")",
      "execution_count": null,
      "outputs": []
    },
    {
      "metadata": {
        "trusted": true,
        "_uuid": "2118cfda176aff3c2d9457f571908fd981c3977c"
      },
      "cell_type": "markdown",
      "source": "well we all know the if the data is processesed properly then ML model will give best results which also reduce the time to explore the data model insights. where we dont go back to rectify the data processing errors."
    },
    {
      "metadata": {
        "trusted": true,
        "_uuid": "4c99806b5ea79d6915e1b54a552c710b50aeaad6"
      },
      "cell_type": "code",
      "source": "#question number : 48\nplt.figure(figsize = (13,8))\n#plt.figure(figsize=(20,60))\nnon_mcq(\"Q48\")",
      "execution_count": null,
      "outputs": []
    },
    {
      "metadata": {
        "_uuid": "ea15a6ec9ecb91b23f68bf30b80ddbc70f90d83d"
      },
      "cell_type": "markdown",
      "source": "The black box thing has nothing to do with the level of expertise of the audience (as long as the audience is human), but with the explainability of the function modelled by the machine learning algorithm.deep neural networks are the paradigmatic example of black box algorithms. No one, not even the most expert person in the world grasp the function that is actually modeled by training a neural network.<br>"
    },
    {
      "metadata": {
        "trusted": true,
        "_uuid": "cc3f97a56216fd88a3cc2d218819673711da034b"
      },
      "cell_type": "code",
      "source": "#question number : 49\n#plt.figure(figsize=(20,60))\nparts_analysis(dfq49)",
      "execution_count": null,
      "outputs": []
    },
    {
      "metadata": {
        "trusted": true,
        "_uuid": "626d831419dc99141bc3d887ec2bdb280f9dfc94"
      },
      "cell_type": "code",
      "source": "#question number : 50\n#plt.figure(figsize=(20,60))\nparts_analysis(dfq50)",
      "execution_count": null,
      "outputs": []
    },
    {
      "metadata": {
        "_uuid": "0cfa8b8257e03dcab42cce345f0cac37049ed1da"
      },
      "cell_type": "markdown",
      "source": "ref_link:<br>\nhttps://en.wikipedia.org/wiki/Kaggle <br>\nhttps://www.kaggle.com/kaggle/kaggle-survey-2018 <br>\nhttps://stackoverflow.com/questions/33179122/seaborn-countplot-with-frequencies<br>\nhttps://www.dataquest.io/blog/introduction-to-aws-for-data-scientists/<br>\nhttps://www.whizlabs.com/blog/big-data-analytics-importance/<br>\nhttps://datascience.stackexchange.com/questions/22335/why-are-machine-learning-models-called-black-boxes<br>"
    },
    {
      "metadata": {
        "trusted": true,
        "_uuid": "9bc3cc39429d5dd9bff476b16a7238d5a918e5c4"
      },
      "cell_type": "markdown",
      "source": "This is my First Kaggle competition submission, and i literally enjoyed doing it, its so much fun. Please do let me know your suggestions on improvement areas."
    }
  ],
  "metadata": {
    "kernelspec": {
      "display_name": "Python 3",
      "language": "python",
      "name": "python3"
    },
    "language_info": {
      "name": "python",
      "version": "3.6.6",
      "mimetype": "text/x-python",
      "codemirror_mode": {
        "name": "ipython",
        "version": 3
      },
      "pygments_lexer": "ipython3",
      "nbconvert_exporter": "python",
      "file_extension": ".py"
    }
  },
  "nbformat": 4,
  "nbformat_minor": 1
}